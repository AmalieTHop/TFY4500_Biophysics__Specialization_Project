{
 "cells": [
  {
   "cell_type": "code",
   "execution_count": 1,
   "id": "60fbc67e",
   "metadata": {},
   "outputs": [
    {
     "name": "stdout",
     "output_type": "stream",
     "text": [
      "Requirement already satisfied: SimpleITK==2.2.1 in /Users/amalietoftumhop/anaconda3/lib/python3.11/site-packages (2.2.1)\n",
      "Note: you may need to restart the kernel to use updated packages.\n"
     ]
    }
   ],
   "source": [
    "pip install SimpleITK==2.2.1"
   ]
  },
  {
   "cell_type": "code",
   "execution_count": 2,
   "id": "ad75a452",
   "metadata": {},
   "outputs": [],
   "source": [
    "import SimpleITK as sitk\n",
    "import pandas"
   ]
  },
  {
   "cell_type": "code",
   "execution_count": 3,
   "id": "72f96412",
   "metadata": {},
   "outputs": [],
   "source": [
    "import pandas as pd\n",
    "from dicom_to_nifti import DicomToNifti"
   ]
  },
  {
   "cell_type": "markdown",
   "id": "b54761cb",
   "metadata": {},
   "source": [
    "### Convert from dicom to nifti"
   ]
  },
  {
   "cell_type": "code",
   "execution_count": 4,
   "id": "3fc557fd",
   "metadata": {},
   "outputs": [],
   "source": [
    "def convert_dicom_to_nifti(src_dir, dst_dir, save_prefix):\n",
    "    converter = DicomToNifti()\n",
    "    converter.run(src_dir, dst_dir, save_prefix = save_prefix)\n",
    "    "
   ]
  },
  {
   "cell_type": "code",
   "execution_count": 5,
   "id": "0abb66c4",
   "metadata": {},
   "outputs": [],
   "source": [
    "# user specified parameters\n",
    "b_values = [0, 50, 100, 200, 800]\n",
    "\n",
    "\n",
    "for b_value in b_values:\n",
    "    \n",
    "    # user specified parameters\n",
    "    src_dir = f\"../../sorted/B_{b_value}/dcm\"\n",
    "    dst_dir = f\"../../sorted/series_sorted_by_b_value\"\n",
    "\n",
    "    converter = DicomToNifti()\n",
    "    converter.run(src_dir, dst_dir, save_prefix = f\"B_{b_value}\")\n"
   ]
  },
  {
   "cell_type": "markdown",
   "id": "0dfa1aa9",
   "metadata": {},
   "source": [
    "### Resample"
   ]
  },
  {
   "cell_type": "code",
   "execution_count": 6,
   "id": "17440dd7",
   "metadata": {},
   "outputs": [],
   "source": [
    "# USE THIS CODE\n",
    "\n",
    "# user specified parameters\n",
    "b_values = [0, 50, 100, 200, 800]\n",
    "\n",
    "\n",
    "for b_value in b_values:\n",
    "    \n",
    "    # user specified parameters\n",
    "    path_to_original_mask = \"../../raw/mask_GTVp.nii\"\n",
    "    path_to_reference_image = f\"../../sorted/series_sorted_by_b_value/B_{b_value}_.nii\"\n",
    "    dst = f\"../../sorted/resampled_masks/B_{b_value}.nii\"\n",
    "\n",
    "    img = sitk.ReadImage(path_to_original_mask)\n",
    "    reference_image = sitk.ReadImage(path_to_reference_image)\n",
    "\n",
    "    resample = sitk.ResampleImageFilter()\n",
    "    resample.SetReferenceImage(reference_image)\n",
    "    resample.SetInterpolator(sitk.sitkNearestNeighbor) # other option sitk.sitkLinear, sitk.sitkNearestNeighbor\n",
    "    resampled_image = resample.Execute(img) # Run the resampling\n",
    "\n",
    "    sitk.WriteImage(resampled_image, dst) # save the result"
   ]
  },
  {
   "cell_type": "code",
   "execution_count": 7,
   "id": "b07283e3",
   "metadata": {},
   "outputs": [],
   "source": [
    "# DO NOT USE THIS CODE\n",
    "\n",
    "#path_to_original_mask = \"../../raw/Segmentation.seg.nrrd\"\n",
    "path_to_original_mask = \"../../raw/mask_GTVp.nii\"\n",
    "path_to_reference_image = \"../../sorted/series_sorted_by_b_value/B_50_.nii\"\n",
    "dst = \"../../sorted/test/resampled_mask.nii\"\n",
    "\n",
    "original_mask_image = sitk.ReadImage(path_to_original_mask)\n",
    "reference_image = sitk.ReadImage(path_to_reference_image)\n",
    "\n",
    "resampled_image = sitk.Resample(original_mask_image, reference_image, sitk.Transform(), sitk.sitkNearestNeighbor, 0, original_mask_image.GetPixelID())\n",
    "\n",
    "sitk.WriteImage(resampled_image, dst) # save the result"
   ]
  },
  {
   "cell_type": "code",
   "execution_count": 12,
   "id": "ac02b350",
   "metadata": {},
   "outputs": [],
   "source": [
    "# DO NOT USE THIS CODE\n",
    "\n",
    "path_to_original_mask = \"../../raw/mask_GTVp.nii\"\n",
    "#path_to_original_mask = \"../../raw/Segmentation.seg.nrrd\"\n",
    "path_to_reference_image = \"../../sorted/series_sorted_by_b_value/B_50_.nii\"\n",
    "dst = \"../../sorted/test/resampled_mask.nii\"\n",
    "\n",
    "\n",
    "original_mask_image = sitk.ReadImage(path_to_original_mask)\n",
    "reference_image = sitk.ReadImage(path_to_reference_image)\n",
    "\n",
    "out_spacing = reference_image.GetSpacing()\n",
    "out_size = reference_image.GetSize()\n",
    "out_origin = reference_image.GetOrigin()\n",
    "\n",
    "dimention = original_mask_image.GetDimension()\n",
    "\n",
    "resample = sitk.ResampleImageFilter()\n",
    "resample.SetOutputSpacing(out_spacing)\n",
    "resample.SetSize(out_size)\n",
    "resample.SetOutputOrigin(out_origin)\n",
    "#resample.SetTransform(sitk.Transform())\n",
    "resample.SetTransform(sitk.AffineTransform(dimention))\n",
    "#resample.SetDefaultPixelValue(0)\n",
    "resample.SetDefaultPixelValue(original_mask_image.GetPixelIDValue())\n",
    "resample.SetInterpolator(sitk.sitkNearestNeighbor)\n",
    "\n",
    "resampled_image = resample.Execute(original_mask_image)\n",
    "\n",
    "sitk.WriteImage(resampled_image, dst) # save the result"
   ]
  },
  {
   "cell_type": "code",
   "execution_count": null,
   "id": "4d107aa6",
   "metadata": {},
   "outputs": [],
   "source": []
  }
 ],
 "metadata": {
  "kernelspec": {
   "display_name": "Python 3 (ipykernel)",
   "language": "python",
   "name": "python3"
  },
  "language_info": {
   "codemirror_mode": {
    "name": "ipython",
    "version": 3
   },
   "file_extension": ".py",
   "mimetype": "text/x-python",
   "name": "python",
   "nbconvert_exporter": "python",
   "pygments_lexer": "ipython3",
   "version": "3.11.4"
  }
 },
 "nbformat": 4,
 "nbformat_minor": 5
}
